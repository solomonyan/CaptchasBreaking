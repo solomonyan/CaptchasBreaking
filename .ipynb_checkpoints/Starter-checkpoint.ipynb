{
 "metadata": {
  "name": "",
  "signature": "sha256:36801bfd497b8299909ca045af3bcac7b5824b0a2c02c301fc2e76348c34e7d7"
 },
 "nbformat": 3,
 "nbformat_minor": 0,
 "worksheets": [
  {
   "cells": [
    {
     "cell_type": "code",
     "collapsed": false,
     "input": [
      "%matplotlib inline"
     ],
     "language": "python",
     "metadata": {},
     "outputs": []
    },
    {
     "cell_type": "markdown",
     "metadata": {},
     "source": [
      "# Breaking Captchas!\n",
      "\n",
      "## how to use ipython notebook\n",
      "\n",
      "Typing in the code and Ctrl + Enter to run"
     ]
    },
    {
     "cell_type": "markdown",
     "metadata": {},
     "source": [
      "# Building blocks\n",
      "\n",
      "### Basic of Selenium and Beautifulsoup\n",
      "\n",
      "create a programmatically-controlled internet browser and using html parser from BeautifulSoup to get useful information"
     ]
    },
    {
     "cell_type": "code",
     "collapsed": false,
     "input": [
      "from selenium import webdriver\n",
      "import selenium.webdriver.support.ui as ui\n",
      "from selenium.webdriver.common.keys import Keys\n",
      "from bs4 import BeautifulSoup\n",
      "\n",
      "firefox_profile = webdriver.FirefoxProfile()\n",
      "driver = webdriver.Firefox()\n",
      "driver.get(\"http://www.worldfestival.gov.hk/2011/php/fd_form2.php\")"
     ],
     "language": "python",
     "metadata": {},
     "outputs": []
    },
    {
     "cell_type": "code",
     "collapsed": false,
     "input": [
      "html_source = driver.page_source\n",
      "bs_html = BeautifulSoup(html_source, \"html5lib\")\n",
      "ans = bs_html.find(name = 'input', attrs = {'name': 'capt_code_html'}).get('value')\n",
      "print ans"
     ],
     "language": "python",
     "metadata": {},
     "outputs": []
    },
    {
     "cell_type": "code",
     "collapsed": false,
     "input": [
      "# keyin the ans\n",
      "captcha = driver.find_element_by_xpath(\"//input[@name='number']\")\n",
      "captcha.clear()\n",
      "captcha.send_keys(ans)"
     ],
     "language": "python",
     "metadata": {},
     "outputs": []
    },
    {
     "cell_type": "code",
     "collapsed": false,
     "input": [
      "# submit the form\n",
      "driver.find_element_by_xpath(\"//input[@name='Submit']\").click()"
     ],
     "language": "python",
     "metadata": {},
     "outputs": []
    },
    {
     "cell_type": "code",
     "collapsed": false,
     "input": [
      "driver.get(\"https://secure.hkma.gov.hk/e-alert/Subscription.aspx?lang=EN\")\n",
      "driver.save_screenshot('test.png')"
     ],
     "language": "python",
     "metadata": {},
     "outputs": []
    },
    {
     "cell_type": "code",
     "collapsed": false,
     "input": [
      "### Don't run it\n",
      "#driver = webdriver.Firefox()\n",
      "#for i in range(200):\n",
      "#    driver.get(\"https://secure.hkma.gov.hk/e-alert/Subscription.aspx?lang=EN\")\n",
      "#    driver.save_screenshot('/home/pycon/breaking/screens/screen' + str(i) + '.png')"
     ],
     "language": "python",
     "metadata": {},
     "outputs": []
    },
    {
     "cell_type": "code",
     "collapsed": false,
     "input": [
      "driver.close()"
     ],
     "language": "python",
     "metadata": {},
     "outputs": []
    },
    {
     "cell_type": "markdown",
     "metadata": {},
     "source": [
      "### Reading image files using opencv and plotting with matplotlib\n",
      "\n"
     ]
    },
    {
     "cell_type": "code",
     "collapsed": false,
     "input": [
      "import cv2\n",
      "import matplotlib.pyplot as plt\n",
      "\n",
      "lenna = cv2.imread(\"lenna.png\")\n",
      "plt.imshow(lenna) # color space is incorrect because the color space by default is BGR, not RGB\n"
     ],
     "language": "python",
     "metadata": {},
     "outputs": []
    },
    {
     "cell_type": "code",
     "collapsed": false,
     "input": [
      "plt.imshow(cv2.cvtColor(lenna, cv2.COLOR_BGR2RGB))"
     ],
     "language": "python",
     "metadata": {},
     "outputs": []
    },
    {
     "cell_type": "code",
     "collapsed": false,
     "input": [
      "# In this application, we don't care about color and we will only work with greyscale\n",
      "\n",
      "lenna_grey = cv2.imread(\"lenna.png\", 0)\n",
      "plt.imshow(lenna_grey) # again, the color space is wrong\n"
     ],
     "language": "python",
     "metadata": {},
     "outputs": []
    },
    {
     "cell_type": "code",
     "collapsed": false,
     "input": [
      "import matplotlib.cm as cm\n",
      "plt.imshow(lenna_grey, cmap = cm.Greys_r)\n",
      "\n",
      "## DRY\n",
      "\n",
      "def gimshow(img):\n",
      "    plt.imshow(img, cmap = cm.Greys_r)\n",
      "\n",
      "#gimshow(lenna_grey)"
     ],
     "language": "python",
     "metadata": {},
     "outputs": []
    },
    {
     "cell_type": "code",
     "collapsed": false,
     "input": [
      "# What exactly is the image\n",
      "\n",
      "print type(lenna_grey)\n",
      "print lenna_grey"
     ],
     "language": "python",
     "metadata": {},
     "outputs": []
    },
    {
     "cell_type": "markdown",
     "metadata": {},
     "source": [
      "### basic ops of numpy"
     ]
    },
    {
     "cell_type": "code",
     "collapsed": false,
     "input": [
      "test = [1,2,3,4,5,6,7,8]\n",
      "import numpy as np\n",
      "myarray = np.array(test)"
     ],
     "language": "python",
     "metadata": {},
     "outputs": []
    },
    {
     "cell_type": "code",
     "collapsed": false,
     "input": [
      "myarray.shape"
     ],
     "language": "python",
     "metadata": {},
     "outputs": []
    },
    {
     "cell_type": "code",
     "collapsed": false,
     "input": [
      "myarray.reshape((4,2))"
     ],
     "language": "python",
     "metadata": {},
     "outputs": []
    },
    {
     "cell_type": "code",
     "collapsed": false,
     "input": [
      "lenna_grey.shape"
     ],
     "language": "python",
     "metadata": {},
     "outputs": []
    },
    {
     "cell_type": "code",
     "collapsed": false,
     "input": [
      "lenna_grey.reshape(512*512) # flatten the 512 * 512 matrix into 1 * 262144 matrix (or vector)"
     ],
     "language": "python",
     "metadata": {},
     "outputs": []
    },
    {
     "cell_type": "code",
     "collapsed": false,
     "input": [
      "gimshow(cv2.blur(lenna_grey, (20,20))) #image processing"
     ],
     "language": "python",
     "metadata": {},
     "outputs": []
    },
    {
     "cell_type": "code",
     "collapsed": false,
     "input": [
      "X = np.vstack((lenna_grey.reshape(512*512), cv2.blur(lenna_grey, (20,20)).reshape(512*512)))\n",
      "X.shape"
     ],
     "language": "python",
     "metadata": {},
     "outputs": []
    },
    {
     "cell_type": "code",
     "collapsed": false,
     "input": [
      "gimshow(X[0,].reshape(512, 512))"
     ],
     "language": "python",
     "metadata": {},
     "outputs": []
    },
    {
     "cell_type": "markdown",
     "metadata": {},
     "source": [
      "We will talk about scipy and more cv2 later"
     ]
    },
    {
     "cell_type": "code",
     "collapsed": false,
     "input": [
      "screenshot = cv2.imread(\"/home/pycon/breaking/screens/screen0.png\", 0)"
     ],
     "language": "python",
     "metadata": {},
     "outputs": []
    },
    {
     "cell_type": "code",
     "collapsed": false,
     "input": [
      "gimshow(screenshot)"
     ],
     "language": "python",
     "metadata": {},
     "outputs": []
    },
    {
     "cell_type": "code",
     "collapsed": false,
     "input": [
      "gimshow(screenshot[971:994, 22:170]) # extract position using GIMP"
     ],
     "language": "python",
     "metadata": {},
     "outputs": []
    },
    {
     "cell_type": "code",
     "collapsed": false,
     "input": [
      "captcha = screenshot[971:994, 22:170]"
     ],
     "language": "python",
     "metadata": {},
     "outputs": []
    },
    {
     "cell_type": "markdown",
     "metadata": {},
     "source": [
      "## Image Processing\n",
      "\n",
      "Goal\n",
      "\n",
      "* Remove background noise\n",
      "* Extract individual characters"
     ]
    },
    {
     "cell_type": "code",
     "collapsed": false,
     "input": [
      "#Resize and filtering\n",
      "bigimg = cv2.resize(captcha, (0,0), fx = 5, fy = 5)\n",
      "blurred = cv2.GaussianBlur(bigimg, (5,5), 0)\n",
      "\n",
      "filtered = cv2.inRange(blurred, 190, 255)\n",
      "\n",
      "gimshow(filtered)"
     ],
     "language": "python",
     "metadata": {},
     "outputs": []
    },
    {
     "cell_type": "code",
     "collapsed": false,
     "input": [
      "contours, hier = cv2.findContours(filtered.copy(), cv2.RETR_TREE, cv2.CHAIN_APPROX_SIMPLE)\n",
      "#cnts = sorted([(c, cv2.boundingRect(c)[0]) for c in contours], key = lambda x: x[1])\n",
      "contours\n",
      "print len(contours)\n",
      "\n",
      "# boundingRect return x, y, w, h\n",
      "\n",
      "# h should be around 50 to 100\n",
      "# w should be around 50 to 100\n",
      "\n",
      "print cv2.boundingRect(contours[0])\n",
      "\n",
      "print cv2.boundingRect(contours[1])\n"
     ],
     "language": "python",
     "metadata": {},
     "outputs": []
    },
    {
     "cell_type": "code",
     "collapsed": false,
     "input": [
      "x, y, w, h = cv2.boundingRect(contours[1])\n",
      "gimshow(filtered[y:y+h, x:x+w])"
     ],
     "language": "python",
     "metadata": {},
     "outputs": []
    },
    {
     "cell_type": "code",
     "collapsed": false,
     "input": [
      "def filterCnt(contour):\n",
      "    x, y, w, h = cv2.boundingRect(contour)\n",
      "    return w >= 50 and w <= 100 and h >= 50 and h <= 100"
     ],
     "language": "python",
     "metadata": {},
     "outputs": []
    },
    {
     "cell_type": "code",
     "collapsed": false,
     "input": [
      "print filterCnt(contours[0])\n",
      "print filterCnt(contours[1])"
     ],
     "language": "python",
     "metadata": {},
     "outputs": []
    },
    {
     "cell_type": "code",
     "collapsed": false,
     "input": [
      "len(filter(filterCnt, contours)) # 6 characters"
     ],
     "language": "python",
     "metadata": {},
     "outputs": []
    },
    {
     "cell_type": "code",
     "collapsed": false,
     "input": [
      "allres = []\n",
      "for cnt in filter(filterCnt, contours):\n",
      "    x, y, w, h = cv2.boundingRect(cnt)\n",
      "    roi = filtered[y:y+h, x:x+w]\n",
      "    res = cv2.resize(roi.copy(), (20,20))\n",
      "    allres.append(res)\n",
      "\n",
      "gimshow(allres[0])"
     ],
     "language": "python",
     "metadata": {},
     "outputs": []
    },
    {
     "cell_type": "code",
     "collapsed": false,
     "input": [
      "for i in enumerate(allres):\n",
      "    plt.subplot(1, 6, i[0] + 1)\n",
      "    plt.imshow(i[1], cmap = cm.Greys_r)\n",
      "plt.show()\n",
      "\n",
      "# the order is not right, need to sort the contours by x value\n",
      "\n"
     ],
     "language": "python",
     "metadata": {},
     "outputs": []
    },
    {
     "cell_type": "code",
     "collapsed": false,
     "input": [
      "unsortedcntRec = [cv2.boundingRect(cnt) for cnt in filter(filterCnt, contours)]\n",
      "unsortedcntRec[0]\n",
      "\n",
      "cntRec = sorted(unsortedcntRec, key = lambda x: x[0])\n",
      "\n",
      "allres = []\n",
      "for x, y, w, h in cntRec:\n",
      "    roi = filtered[y:y+h, x:x+w]\n",
      "    res = cv2.resize(roi.copy(), (20,20))\n",
      "    allres.append(res)\n",
      "\n",
      "for i in enumerate(allres):\n",
      "    plt.subplot(1, 6, i[0] + 1)\n",
      "    plt.imshow(i[1], cmap = cm.Greys_r)\n",
      "plt.show()\n",
      "\n",
      "def plotallres(allres):\n",
      "    for i in enumerate(allres):\n",
      "        plt.subplot(1, 6, i[0] + 1)\n",
      "        plt.imshow(i[1], cmap = cm.Greys_r)\n",
      "    plt.show()\n",
      "    "
     ],
     "language": "python",
     "metadata": {},
     "outputs": []
    },
    {
     "cell_type": "code",
     "collapsed": false,
     "input": [
      "gimshow(allres[5])"
     ],
     "language": "python",
     "metadata": {},
     "outputs": []
    },
    {
     "cell_type": "markdown",
     "metadata": {},
     "source": [
      "## Excercise 1\n",
      "\n",
      "package the above code into a function called processImg()\n",
      "\n",
      "with only screenfilename as input and allress as output\n"
     ]
    },
    {
     "cell_type": "code",
     "collapsed": false,
     "input": [
      "def processImg(screenfilename):\n",
      "\n",
      "    return allres\n",
      "\n"
     ],
     "language": "python",
     "metadata": {},
     "outputs": []
    },
    {
     "cell_type": "code",
     "collapsed": false,
     "input": [
      "screen0ans = processImg(\"/home/pycon/breaking/screens/screen9.png\")\n",
      "plotallres(screen0ans)\n",
      "\n",
      "# it can't regconize: I!!!"
     ],
     "language": "python",
     "metadata": {},
     "outputs": []
    },
    {
     "cell_type": "markdown",
     "metadata": {},
     "source": [
      "## Trick to regconize characters"
     ]
    },
    {
     "cell_type": "code",
     "collapsed": false,
     "input": [
      "import csv\n",
      "f = open('/home/pycon/breaking/screens/ans.csv')\n",
      "brokencap = [list(row['ans']) for row in csv.DictReader(f)]\n",
      "brokencap[0]"
     ],
     "language": "python",
     "metadata": {},
     "outputs": []
    },
    {
     "cell_type": "code",
     "collapsed": false,
     "input": [
      "X = None\n",
      "lab = []\n",
      "for x in range(200):\n",
      "    allchars = processImg(\"/home/pycon/breaking/screens/screen\" + str(x) + \".png\")\n",
      "    if len(allchars) == 6:\n",
      "        for id, char in enumerate(allchars):\n",
      "            try:\n",
      "                X = np.vstack((X, char.reshape(400)))\n",
      "            except:\n",
      "                X = char.reshape(400)\n",
      "            lab.append(brokencap[x][id])"
     ],
     "language": "python",
     "metadata": {},
     "outputs": []
    },
    {
     "cell_type": "code",
     "collapsed": false,
     "input": [
      "X.shape"
     ],
     "language": "python",
     "metadata": {},
     "outputs": []
    },
    {
     "cell_type": "code",
     "collapsed": false,
     "input": [
      "lab"
     ],
     "language": "python",
     "metadata": {},
     "outputs": []
    },
    {
     "cell_type": "code",
     "collapsed": false,
     "input": [
      "gimshow(X[np.array(lab) == \"F\"].mean(0).reshape((20, 20)))"
     ],
     "language": "python",
     "metadata": {},
     "outputs": []
    },
    {
     "cell_type": "code",
     "collapsed": false,
     "input": [
      "from scipy.spatial.distance import euclidean"
     ],
     "language": "python",
     "metadata": {},
     "outputs": []
    },
    {
     "cell_type": "code",
     "collapsed": false,
     "input": [
      "allchars = processImg(\"/home/pycon/breaking/screens/screen0.png\")\n"
     ],
     "language": "python",
     "metadata": {},
     "outputs": []
    },
    {
     "cell_type": "code",
     "collapsed": false,
     "input": [
      "plotallres(allchars)"
     ],
     "language": "python",
     "metadata": {},
     "outputs": []
    },
    {
     "cell_type": "code",
     "collapsed": false,
     "input": [
      "for char in list(\"ABCDEFGHJKLMNOPQRSTUVWXYZ\"):\n",
      "    print char, euclidean(allchars[0].reshape(400), X[np.array(lab) == char].mean(0))"
     ],
     "language": "python",
     "metadata": {},
     "outputs": []
    },
    {
     "cell_type": "code",
     "collapsed": false,
     "input": [
      "def regchar(charvec, X, lab):\n",
      "    dist = [euclidean(charvec.reshape(400), X[np.array(lab) == char].mean(0)) for char in list(\"ABCDEFGHJKLMNOPQRSTUVWXYZ\")]\n",
      "    return list(\"ABCDEFGHJKLMNOPQRSTUVWXYZ\")[np.argmin(dist)]"
     ],
     "language": "python",
     "metadata": {},
     "outputs": []
    },
    {
     "cell_type": "code",
     "collapsed": false,
     "input": [
      "regchar(allres[0], X, lab)"
     ],
     "language": "python",
     "metadata": {},
     "outputs": []
    },
    {
     "cell_type": "markdown",
     "metadata": {},
     "source": [
      "## Excercise 2\n",
      "\n",
      "create a function regImg with only screenfilename as input and out the answer as a string"
     ]
    },
    {
     "cell_type": "code",
     "collapsed": false,
     "input": [
      "def regImg(screenfilename):\n",
      "    return "
     ],
     "language": "python",
     "metadata": {},
     "outputs": []
    },
    {
     "cell_type": "code",
     "collapsed": false,
     "input": [
      "regImg(\"/home/pycon/breaking/screens/screen5.png\")"
     ],
     "language": "python",
     "metadata": {},
     "outputs": []
    },
    {
     "cell_type": "code",
     "collapsed": false,
     "input": [
      "driver = webdriver.Firefox()\n",
      "driver.get(\"https://secure.hkma.gov.hk/e-alert/Subscription.aspx?lang=EN\")\n",
      "driver.save_screenshot('test.png')\n",
      "ans = regImg(\"test.png\")\n",
      "print ans"
     ],
     "language": "python",
     "metadata": {},
     "outputs": []
    },
    {
     "cell_type": "code",
     "collapsed": false,
     "input": [
      "captchaField = driver.find_element_by_xpath(\"//input[@id='MainContent_txtCode']\")\n",
      "captchaField.clear()\n",
      "captchaField.send_keys(ans)"
     ],
     "language": "python",
     "metadata": {},
     "outputs": []
    },
    {
     "cell_type": "code",
     "collapsed": false,
     "input": [
      "driver.find_element_by_xpath(\"//input[@type='submit']\").click()"
     ],
     "language": "python",
     "metadata": {},
     "outputs": []
    },
    {
     "cell_type": "code",
     "collapsed": false,
     "input": [
      "driver.close()"
     ],
     "language": "python",
     "metadata": {},
     "outputs": []
    },
    {
     "cell_type": "markdown",
     "metadata": {},
     "source": [
      "## Excercise 3\n",
      "\n",
      "Generate a function with only email address as input and make subscription to all e-mail alert from HKMA\n",
      "\n",
      "WARNINGS: use this function responsibly, e.g. using ceo@ceo.gov.hk to test\n",
      "\n",
      "1. reload the page if the ans from regImg is less than 6 characters"
     ]
    },
    {
     "cell_type": "code",
     "collapsed": false,
     "input": [],
     "language": "python",
     "metadata": {},
     "outputs": []
    }
   ],
   "metadata": {}
  }
 ]
}